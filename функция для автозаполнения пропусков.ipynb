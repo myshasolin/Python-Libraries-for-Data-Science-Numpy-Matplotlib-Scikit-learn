{
 "cells": [
  {
   "cell_type": "code",
   "execution_count": 1,
   "id": "777c6332",
   "metadata": {},
   "outputs": [],
   "source": [
    "def handling_empty_features(df, target, model, scaler=False):\n",
    "    \"\"\"\n",
    "    Функция для автоматического прогнозирования недостающий значений. Принимает в себя датафрейм с недостающей переменной, \n",
    "    название этой переменной (таргета), модель и, если есть, метод стандартизации/нормализации данных\n",
    "    Функция делит датафрейм на train и test и показывает R2 для них для анализа точности прогноза и переобучения.\n",
    "    Функция возвращает заполненный спрогнозированными данными датафрейм\n",
    "    \"\"\"\n",
    "    df['nan'], df.loc[df[target].isna(), 'nan'] = 1, 0\n",
    "    train = df[df['nan'] == 1]\n",
    "    test = df[df['nan'] == 0]\n",
    "    train, test = train.drop(['nan'], axis=1), test.drop(['nan'], axis=1)\n",
    "    y = train[target]\n",
    "    X = train.drop(target, axis=1)\n",
    "    X_train, X_valid, y_train, y_valid = train_test_split(X, y, test_size=0.25, shuffle=True, random_state=21)\n",
    "    if scaler:\n",
    "        X_train_scaled = pd.DataFrame(scaler.fit_transform(X_train), columns=X_train.columns)\n",
    "        X_valid_scaled = pd.DataFrame(scaler.transform(X_valid), columns=X_valid.columns)\n",
    "        model.fit(X_train_scaled, y_train)\n",
    "        y_train_preds = model.predict(X_train_scaled)\n",
    "        y_valid_preds = model.predict(X_valid_scaled)\n",
    "        evaluate_preds(y_train, y_train_preds, y_valid, y_valid_preds, R2=True)\n",
    "        X_scaled = scaler.fit_transform(X)\n",
    "        X_scaled = pd.DataFrame(X_scaled, columns=X.columns)\n",
    "        model.fit(X_scaled, y)\n",
    "        y_train_preds = model.predict(X_scaled)\n",
    "        test = test.drop(target, axis=1)\n",
    "        test[target] = model.predict(test)\n",
    "        test = test[[x for x in train.columns]]\n",
    "        return pd.concat([train, test])\n",
    "    else:\n",
    "        model.fit(X_train, y_train)\n",
    "        y_train_preds = model.predict(X_train)\n",
    "        y_test_preds = model.predict(X_valid)\n",
    "        evaluate_preds(y_train, y_train_preds, y_valid, y_test_preds, R2=True)\n",
    "        model.fit(X, y)\n",
    "        y_train_preds = model.predict(X)\n",
    "        test = test.drop(target, axis=1)\n",
    "        test[target] = model.predict(test)\n",
    "        test = test[[x for x in train.columns]]\n",
    "        return pd.concat([train, test])"
   ]
  }
 ],
 "metadata": {
  "kernelspec": {
   "display_name": "Python 3 (ipykernel)",
   "language": "python",
   "name": "python3"
  },
  "language_info": {
   "codemirror_mode": {
    "name": "ipython",
    "version": 3
   },
   "file_extension": ".py",
   "mimetype": "text/x-python",
   "name": "python",
   "nbconvert_exporter": "python",
   "pygments_lexer": "ipython3",
   "version": "3.9.7"
  }
 },
 "nbformat": 4,
 "nbformat_minor": 5
}
